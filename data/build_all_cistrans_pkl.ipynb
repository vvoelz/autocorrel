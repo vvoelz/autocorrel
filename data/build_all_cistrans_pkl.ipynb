{
 "cells": [
  {
   "cell_type": "markdown",
   "id": "e8adb7b0-a353-469d-91bd-82fe3247288f",
   "metadata": {},
   "source": [
    "## Convert `data.pkl` to a (more managable) pickle of integers."
   ]
  },
  {
   "cell_type": "code",
   "execution_count": 2,
   "id": "b54002a0-d2b8-4be6-9bfd-ba0ecc924311",
   "metadata": {},
   "outputs": [],
   "source": [
    "import numpy as np\n",
    "from matplotlib import pyplot as plt\n",
    "import pickle\n",
    "\n",
    "# Define a helper function to load and save pickles of lists of arrays\n",
    "\n",
    "class Data:\n",
    "    def __init__(self, array_list):\n",
    "        self.array_list = array_list\n",
    "\n",
    "    def save(self, filename):\n",
    "        with open(filename, 'wb') as f:\n",
    "            pickle.dump(self.array_list, f)\n",
    "\n",
    "    @classmethod\n",
    "    def load(cls, filename):\n",
    "        with open(filename, 'rb') as f:\n",
    "            array_list = pickle.load(f)\n",
    "        return cls(array_list)\n",
    "\n",
    "\n",
    "all_omega = Data.load(f\"data.pkl\").array_list \n",
    "# This a list of 742 (N_i, 3) np.arrays, where N_i is the size of the i^{th} trajectory\n",
    "\n",
    "def omega2cistrans(omega):\n",
    "    \"\"\"Converts a sequence of float omega angles (in degrees) to an array of ints: 0 cis and 1 trans.\"\"\"\n",
    "    \n",
    "    shifted_omega = (omega + 90.0) % 360.0 - 90.0 # shift into (-90, 270) range to avoid periodic boundaries\n",
    "    \n",
    "    cistrans = np.where(shifted_omega > 90.0, 1, 0).astype(bool)\n",
    "    return cistrans\n",
    "\n",
    "# convert the lists of float arrays to a list of int cis/trans arrays\n",
    "ntraj = len(all_omega)\n",
    "all_cistrans = []\n",
    "for i in range(ntraj):\n",
    "    all_cistrans.append(omega2cistrans(all_omega[i]))\n",
    "\n",
    "# Save the boolean pickle\n",
    "Data_all_cistrans = Data(all_cistrans)\n",
    "Data_all_cistrans.save('all_cistrans.pkl')"
   ]
  },
  {
   "cell_type": "code",
   "execution_count": null,
   "id": "5fb80a1f-2722-4a12-8794-059239b41817",
   "metadata": {},
   "outputs": [],
   "source": []
  }
 ],
 "metadata": {
  "kernelspec": {
   "display_name": "Python 3 (ipykernel)",
   "language": "python",
   "name": "python3"
  },
  "language_info": {
   "codemirror_mode": {
    "name": "ipython",
    "version": 3
   },
   "file_extension": ".py",
   "mimetype": "text/x-python",
   "name": "python",
   "nbconvert_exporter": "python",
   "pygments_lexer": "ipython3",
   "version": "3.12.1"
  }
 },
 "nbformat": 4,
 "nbformat_minor": 5
}
