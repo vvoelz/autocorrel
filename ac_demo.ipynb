{
 "cells": [
  {
   "cell_type": "markdown",
   "id": "ed6ca5f1-2253-4d59-be6b-500ae419fb6b",
   "metadata": {},
   "source": [
    "# Time-lagged covariance\n",
    "\n",
    "Consider a trajectory $x(t)$, sampled at a time series $t_i$, $i=1,...,N$. The time series is taken at regular intervals $\\Delta t = t_{i+1} - t_i$.\n",
    "\n",
    "Let's first consider the **time-lagged covariance** in the trajectory samples taken at some time $t$, and those taken at some time in the future $t+\\tau$,\n",
    "\n",
    "$$ \\text{Cov}(x(t), x(t+\\tau))  = \\langle (x(t) - \\bar{x}) (x(t+\\tau) - \\bar{x}) \\rangle_t .$$\n",
    "\n",
    "We will call $\\tau$ the **lag time**.  Here, the angle brackets $\\langle \\cdot \\rangle_t$ represent an average over all time points $t$, and $\\bar{x} = \\langle x(t) \\rangle_t$ represents the mean value of $x(t)$ over all samples.  Numerically, we compute these as\n",
    "\n",
    "$$ \\bar{x} = \\frac{1}{N} \\sum_{i=1}^{N} x(t_i), $$\n",
    "\n",
    "$$ \\text{Cov}(x(t), x(t+\\tau)) = \\frac{1}{N-T} \\sum_{i=1}^{N-T} (x(t_i) - \\bar{x}) (x(t_{i+T}) - \\bar{x}) , $$\n",
    "where $\\tau$ is $T$ time steps in the future.  \n",
    "\n",
    "Note that when $\\tau = 0$ ($T=0$), the covariance is simply the variance of $x(t)$:\n",
    "\n",
    "$$ \\text{Cov}(x(t), x(t)) = \\text{Var}(x(t)) = \\frac{1}{N} \\sum_{i=1}^{N} (x(t_i) - \\bar{x})^2  $$\n",
    "\n",
    "\n",
    "What happens to the covariance $\\text{Cov}(x(t), x(t+\\tau))$ in limit of $\\tau \\rightarrow \\infty$?   If the trajectory $x(t)$ corresponds to some kind of **stochastic dynamics**, then we assume that samples taken at time $t$ and some very distant time in the future are completely uncorrelated, such that\n",
    "\n",
    "$$ \\lim_{\\tau \\rightarrow \\infty} \\text{Cov}(x(t), x(t+\\tau)) = 0 .$$\n",
    "\n",
    "One way to think about this: for very time-distant pairs of samples, there is equal probabiliity for $x(t)$ and $x(t+\\tau)$ to be above or below the mean, so that the average of $(x(t) - \\bar{x}) (x(t+\\tau) - \\bar{x}) $ over all samples goes to zero."
   ]
  },
  {
   "cell_type": "markdown",
   "id": "f8554105-366d-4324-812e-59a394f5921d",
   "metadata": {},
   "source": [
    "# The autocorrelation function\n",
    "\n",
    "Let's define the **autocorrelation function** as\n",
    "\n",
    "$$ g(\\tau) = \\frac{\\text{Cov}(x(t), x(t+\\tau))}{\\text{Var}(x(t))} = \\frac{\\langle (x(t) - \\bar{x}) (x(t+\\tau) - \\bar{x}) \\rangle_t}{\\langle (x(t) - \\bar{x})^2 \\rangle_t} .$$\n",
    "\n",
    "From above, we know that $g(\\tau) = 1$ when $\\tau = 0$, and decays to to $g(\\tau) = 0$ when $\\tau \\rightarrow \\infty$.  What kind of function is $g(\\tau)$? \n",
    "\n",
    "For a Langevin stochastic process (in which dynamics is subject to a random, fluctuating *forces* $f(t)$ with $\\langle f(t) \\rangle = 0 $), it can be shown that the the velocity autocorrelation function is an exponential decay, with a time constant that depends on the friction coeffient and the mass.  In sufficiently complicated stochastic dynamical systems (i.e. coupling to a thermal bath through many intermolecular collisions), we also expect to $g(\\tau)$ to be exponential decay with some time constant $\\tau_c$,\n",
    "\n",
    "$$ g(\\tau) \\sim e^{-\\tau/\\tau_c} .$$\n",
    "\n",
    "\n",
    "\n"
   ]
  },
  {
   "cell_type": "code",
   "execution_count": 2,
   "id": "43e89081-8936-4747-b28a-ac8f985e942f",
   "metadata": {},
   "outputs": [],
   "source": [
    "import numpy as np\n",
    "from autocorrel import *\n"
   ]
  },
  {
   "cell_type": "code",
   "execution_count": null,
   "id": "8be45a7b-1e88-44eb-9d27-b13ce7cc1381",
   "metadata": {},
   "outputs": [],
   "source": []
  }
 ],
 "metadata": {
  "kernelspec": {
   "display_name": "Python 3 (ipykernel)",
   "language": "python",
   "name": "python3"
  },
  "language_info": {
   "codemirror_mode": {
    "name": "ipython",
    "version": 3
   },
   "file_extension": ".py",
   "mimetype": "text/x-python",
   "name": "python",
   "nbconvert_exporter": "python",
   "pygments_lexer": "ipython3",
   "version": "3.12.2"
  }
 },
 "nbformat": 4,
 "nbformat_minor": 5
}
